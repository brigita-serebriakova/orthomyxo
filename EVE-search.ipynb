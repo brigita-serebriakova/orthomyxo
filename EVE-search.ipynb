{
 "cells": [
  {
   "cell_type": "markdown",
   "id": "a1ea3121",
   "metadata": {},
   "source": [
    "# tBLASTn in arthropods"
   ]
  },
  {
   "cell_type": "code",
   "execution_count": 1,
   "id": "64a416c2",
   "metadata": {},
   "outputs": [],
   "source": [
    "import time\n",
    "import os"
   ]
  },
  {
   "cell_type": "code",
   "execution_count": 2,
   "id": "0cc7445c",
   "metadata": {},
   "outputs": [],
   "source": [
    "clustered_seq = \"/Users/brigitaserebriakova/Desktop/Systems-Biology/MAGISTRINIS/Orthomyxo-PB1-CD-HIT-updated.clstr\"\n",
    "fasta_path = \"/Users/brigitaserebriakova/Desktop/Systems-Biology/MAGISTRINIS/Orthomyxo-PB1-HHMER-updated.fasta\""
   ]
  },
  {
   "cell_type": "code",
   "execution_count": 3,
   "id": "aeef7237",
   "metadata": {},
   "outputs": [
    {
     "data": {
      "text/plain": [
       "['QPN36968.1',\n",
       " 'UQT02520.1',\n",
       " 'QMP82367.1',\n",
       " 'UVF62194.1',\n",
       " 'QMP82195.1',\n",
       " 'QMP82285.1',\n",
       " 'QMP82388.1',\n",
       " 'QMP82402.1',\n",
       " 'QMP82403.1',\n",
       " 'QMP82112.1',\n",
       " 'QMP82168.1',\n",
       " 'QMP82344.1',\n",
       " 'QMP82362.1',\n",
       " 'QMP82338.1',\n",
       " 'QPZ88437.1',\n",
       " 'UMO75733.1',\n",
       " 'QED21504.1',\n",
       " 'UPT53723.1',\n",
       " 'AVR52572.1',\n",
       " 'QMP82355.1',\n",
       " 'AVR52567.1',\n",
       " 'UUG74181.1',\n",
       " 'UMO75734.1',\n",
       " 'AJG39094.1',\n",
       " 'QMP82147.1',\n",
       " 'QPL15381.1',\n",
       " 'QMP82248.1',\n",
       " 'UMO75726.1',\n",
       " 'QMP82204.1',\n",
       " 'QPL15288.1',\n",
       " 'QPL15340.1',\n",
       " 'UMO75713.1',\n",
       " 'UUG74233.1',\n",
       " 'QPL15368.1',\n",
       " 'UMO75705.1',\n",
       " 'UMO75722.1',\n",
       " 'QMP82272.1',\n",
       " 'URQ09139.1',\n",
       " 'QIJ70032.1',\n",
       " 'QMP82229.1',\n",
       " 'QWC36487.1',\n",
       " 'UUG74184.1',\n",
       " 'AJG39084.1',\n",
       " 'UMO75717.1',\n",
       " 'DAZ85673.1',\n",
       " 'AJG39092.1',\n",
       " 'AJG39088.1',\n",
       " 'QDK54862.1',\n",
       " 'QEM39320.1',\n",
       " 'AJG39089.1',\n",
       " 'QPZ88434.1',\n",
       " 'AJG39086.1',\n",
       " 'QKK82920.1',\n",
       " 'QPL15369.1',\n",
       " 'QPZ88431.1',\n",
       " 'UUG74234.1',\n",
       " 'ACY56282.1',\n",
       " 'UMO75729.1',\n",
       " 'UYL95486.1',\n",
       " 'ASR92124.1',\n",
       " 'UUT42596.1',\n",
       " 'QPN36942.1',\n",
       " 'URY50684.1',\n",
       " 'UUT42625.1',\n",
       " 'AIY25030.1',\n",
       " 'QOE76794.1',\n",
       " 'DAZ91106.1',\n",
       " 'AQU42764.1',\n",
       " 'UMO75720.1',\n",
       " 'CAO02354.1',\n",
       " 'QOE76801.1',\n",
       " 'AVM87635.1',\n",
       " 'QOE76818.1',\n",
       " 'AAU94857.1',\n",
       " 'AVM87616.1',\n",
       " 'QOE76825.1',\n",
       " 'AVM87621.1',\n",
       " 'QOE76809.1',\n",
       " 'AVM87629.1',\n",
       " 'ALJ78713.1',\n",
       " 'QMP82202.1',\n",
       " 'UDY81312.1',\n",
       " 'UBB38850.1',\n",
       " 'QMP82233.1',\n",
       " 'QMP82331.1',\n",
       " 'QKK82921.1',\n",
       " 'AAA42968.1',\n",
       " 'BBD20265.1',\n",
       " 'QPL15346.1',\n",
       " 'QQN90103.1',\n",
       " 'UYX69296.1',\n",
       " 'AAC25959.1',\n",
       " 'APP91612.1',\n",
       " 'AAL67962.1',\n",
       " 'QJQ28580.1',\n",
       " 'ASM94088.1',\n",
       " 'AED98371.1',\n",
       " 'UAJ23566.1',\n",
       " 'AQM37674.1',\n",
       " 'AVM87639.1',\n",
       " 'AVM87618.1',\n",
       " 'AJG39096.1',\n",
       " 'AVM87619.1',\n",
       " 'UYL83184.1',\n",
       " 'QPL15347.1',\n",
       " 'QPN36939.1',\n",
       " 'AJG39085.1',\n",
       " 'UUG74235.1',\n",
       " 'QFR36189.1']"
      ]
     },
     "execution_count": 3,
     "metadata": {},
     "output_type": "execute_result"
    }
   ],
   "source": [
    "with open(clustered_seq, \"r\") as clusters:\n",
    "    c = clusters.readlines()\n",
    "rep_ID_lines = [e for e in c if e.endswith(\"*\\n\")]\n",
    "rep_IDs = [e.split(\", >\")[1].split(\"...\")[0] for e in rep_ID_lines]\n",
    "rep_IDs"
   ]
  },
  {
   "cell_type": "code",
   "execution_count": 5,
   "id": "e4c48dde",
   "metadata": {},
   "outputs": [
    {
     "data": {
      "text/plain": [
       "109"
      ]
     },
     "execution_count": 5,
     "metadata": {},
     "output_type": "execute_result"
    }
   ],
   "source": [
    "len(rep_IDs)"
   ]
  },
  {
   "cell_type": "markdown",
   "id": "c0c163a3",
   "metadata": {},
   "source": [
    "Search in arthropods (txid6656)"
   ]
  },
  {
   "cell_type": "code",
   "execution_count": 10,
   "id": "612d2c78",
   "metadata": {},
   "outputs": [
    {
     "name": "stderr",
     "output_type": "stream",
     "text": [
      "\n",
      "KeyboardInterrupt\n",
      "\n"
     ]
    }
   ],
   "source": [
    "from Bio.Blast import NCBIWWW\n",
    "for i in rep_IDs:\n",
    "    #try:\n",
    "    result_handle = NCBIWWW.qblast(\"tblastn\", \"nr\", sequence = i, entrez_query = \"txid6656[ORGN]\")\n",
    "    with open(f\"/Users/brigitaserebriakova/Desktop/Systems-Biology/MAGISTRINIS/tBLASTn-PB1/{i}.xml\", \"w\") as out_handle:\n",
    "        out_handle.write(result_handle.read())\n",
    "    result_handle.close()\n",
    "    #except:\n",
    "        #time.sleep(5)"
   ]
  },
  {
   "cell_type": "markdown",
   "id": "0467c45c",
   "metadata": {},
   "source": [
    "Search in hexapods (Hexapoda, NCBI:txid6960)"
   ]
  },
  {
   "cell_type": "code",
   "execution_count": 5,
   "id": "a49d8c03",
   "metadata": {},
   "outputs": [
    {
     "name": "stderr",
     "output_type": "stream",
     "text": [
      "\n",
      "KeyboardInterrupt\n",
      "\n"
     ]
    }
   ],
   "source": [
    "from Bio.Blast import NCBIWWW\n",
    "for i in rep_IDs:\n",
    "    try:\n",
    "        result_handle = NCBIWWW.qblast(\"tblastn\", \"nr\", sequence = i, entrez_query = \"txid6960[ORGN]\")\n",
    "        with open(f\"/Users/brigitaserebriakova/Desktop/Systems-Biology/MAGISTRINIS/Hexapoda-tBLASTn-PB1/{i}.xml\", \"w\") as out_handle:\n",
    "            out_handle.write(result_handle.read())\n",
    "        result_handle.close()\n",
    "    except:\n",
    "        time.sleep(30)"
   ]
  },
  {
   "cell_type": "raw",
   "id": "a36b833e",
   "metadata": {},
   "source": [
    "Search in insects (Insecta, NCBI:txid50557)"
   ]
  },
  {
   "cell_type": "code",
   "execution_count": 6,
   "id": "18dc8baf",
   "metadata": {},
   "outputs": [
    {
     "name": "stderr",
     "output_type": "stream",
     "text": [
      "\n",
      "KeyboardInterrupt\n",
      "\n"
     ]
    }
   ],
   "source": [
    "from Bio.Blast import NCBIWWW\n",
    "for i in rep_IDs:\n",
    "    try:\n",
    "        result_handle = NCBIWWW.qblast(\"tblastn\", \"nr\", sequence = i, entrez_query = \"txid50557[ORGN]\")\n",
    "        with open(f\"/Users/brigitaserebriakova/Desktop/Systems-Biology/MAGISTRINIS/Insecta-tBLASTn-PB1/{i}.xml\", \"w\") as out_handle:\n",
    "            out_handle.write(result_handle.read())\n",
    "        result_handle.close()\n",
    "    except:\n",
    "        time.sleep(30)"
   ]
  },
  {
   "cell_type": "markdown",
   "id": "ed5d4114",
   "metadata": {},
   "source": [
    "Search in dicondylia (txid85512)"
   ]
  },
  {
   "cell_type": "code",
   "execution_count": 7,
   "id": "4e961e3e",
   "metadata": {
    "scrolled": true
   },
   "outputs": [
    {
     "ename": "KeyboardInterrupt",
     "evalue": "",
     "output_type": "error",
     "traceback": [
      "\u001b[0;31m---------------------------------------------------------------------------\u001b[0m",
      "\u001b[0;31mKeyboardInterrupt\u001b[0m                         Traceback (most recent call last)",
      "Cell \u001b[0;32mIn[7], line 4\u001b[0m\n\u001b[1;32m      3\u001b[0m \u001b[38;5;28;01mtry\u001b[39;00m:\n\u001b[0;32m----> 4\u001b[0m     result_handle \u001b[38;5;241m=\u001b[39m \u001b[43mNCBIWWW\u001b[49m\u001b[38;5;241;43m.\u001b[39;49m\u001b[43mqblast\u001b[49m\u001b[43m(\u001b[49m\u001b[38;5;124;43m\"\u001b[39;49m\u001b[38;5;124;43mtblastn\u001b[39;49m\u001b[38;5;124;43m\"\u001b[39;49m\u001b[43m,\u001b[49m\u001b[43m \u001b[49m\u001b[38;5;124;43m\"\u001b[39;49m\u001b[38;5;124;43mnr\u001b[39;49m\u001b[38;5;124;43m\"\u001b[39;49m\u001b[43m,\u001b[49m\u001b[43m \u001b[49m\u001b[43msequence\u001b[49m\u001b[43m \u001b[49m\u001b[38;5;241;43m=\u001b[39;49m\u001b[43m \u001b[49m\u001b[43mi\u001b[49m\u001b[43m,\u001b[49m\u001b[43m \u001b[49m\u001b[43mentrez_query\u001b[49m\u001b[43m \u001b[49m\u001b[38;5;241;43m=\u001b[39;49m\u001b[43m \u001b[49m\u001b[38;5;124;43m\"\u001b[39;49m\u001b[38;5;124;43mtxid85512[ORGN]\u001b[39;49m\u001b[38;5;124;43m\"\u001b[39;49m\u001b[43m)\u001b[49m\n\u001b[1;32m      5\u001b[0m     \u001b[38;5;28;01mwith\u001b[39;00m \u001b[38;5;28mopen\u001b[39m(\u001b[38;5;124mf\u001b[39m\u001b[38;5;124m\"\u001b[39m\u001b[38;5;124m/Users/brigitaserebriakova/Desktop/Systems-Biology/MAGISTRINIS/Dicondylia-tBLASTn-PB1/\u001b[39m\u001b[38;5;132;01m{\u001b[39;00mi\u001b[38;5;132;01m}\u001b[39;00m\u001b[38;5;124m.xml\u001b[39m\u001b[38;5;124m\"\u001b[39m, \u001b[38;5;124m\"\u001b[39m\u001b[38;5;124mw\u001b[39m\u001b[38;5;124m\"\u001b[39m) \u001b[38;5;28;01mas\u001b[39;00m out_handle:\n",
      "File \u001b[0;32m~/miniconda3/envs/orthomyxo/lib/python3.11/site-packages/Bio/Blast/NCBIWWW.py:268\u001b[0m, in \u001b[0;36mqblast\u001b[0;34m(program, database, sequence, url_base, auto_format, composition_based_statistics, db_genetic_code, endpoints, entrez_query, expect, filter, gapcosts, genetic_code, hitlist_size, i_thresh, layout, lcase_mask, matrix_name, nucl_penalty, nucl_reward, other_advanced, perc_ident, phi_pattern, query_file, query_believe_defline, query_from, query_to, searchsp_eff, service, threshold, ungapped_alignment, word_size, short_query, alignments, alignment_view, descriptions, entrez_links_new_window, expect_low, expect_high, format_entrez_query, format_object, format_type, ncbi_gi, results_file, show_overview, megablast, template_type, template_length, username, password)\u001b[0m\n\u001b[1;32m    267\u001b[0m \u001b[38;5;28;01mif\u001b[39;00m wait \u001b[38;5;241m>\u001b[39m \u001b[38;5;241m0\u001b[39m:\n\u001b[0;32m--> 268\u001b[0m     time\u001b[38;5;241m.\u001b[39msleep(wait)\n\u001b[1;32m    269\u001b[0m     qblast\u001b[38;5;241m.\u001b[39m_previous \u001b[38;5;241m=\u001b[39m current \u001b[38;5;241m+\u001b[39m wait\n",
      "\u001b[0;31mKeyboardInterrupt\u001b[0m: ",
      "\nDuring handling of the above exception, another exception occurred:\n",
      "\u001b[0;31mKeyboardInterrupt\u001b[0m                         Traceback (most recent call last)",
      "Cell \u001b[0;32mIn[7], line 9\u001b[0m\n\u001b[1;32m      7\u001b[0m     result_handle\u001b[38;5;241m.\u001b[39mclose()\n\u001b[1;32m      8\u001b[0m \u001b[38;5;28;01mexcept\u001b[39;00m:\n\u001b[0;32m----> 9\u001b[0m     \u001b[43mtime\u001b[49m\u001b[38;5;241;43m.\u001b[39;49m\u001b[43msleep\u001b[49m\u001b[43m(\u001b[49m\u001b[38;5;241;43m30\u001b[39;49m\u001b[43m)\u001b[49m\n",
      "\u001b[0;31mKeyboardInterrupt\u001b[0m: "
     ]
    }
   ],
   "source": [
    "from Bio.Blast import NCBIWWW\n",
    "for i in rep_IDs:\n",
    "    try:\n",
    "        result_handle = NCBIWWW.qblast(\"tblastn\", \"nr\", sequence = i, entrez_query = \"txid85512[ORGN]\")\n",
    "        with open(f\"/Users/brigitaserebriakova/Desktop/Systems-Biology/MAGISTRINIS/Dicondylia-tBLASTn-PB1/{i}.xml\", \"w\") as out_handle:\n",
    "            out_handle.write(result_handle.read())\n",
    "        result_handle.close()\n",
    "    except:\n",
    "        time.sleep(30)"
   ]
  },
  {
   "cell_type": "markdown",
   "id": "a8781327",
   "metadata": {},
   "source": [
    "## Draft"
   ]
  },
  {
   "cell_type": "markdown",
   "id": "f9b25998",
   "metadata": {},
   "source": [
    "Following https://bioinf.shenwei.me/taxonkit/tutorial/#extract-all-protein-sequences-of-specific-taxons-from-the-ncbi-nr-database tutorial"
   ]
  },
  {
   "cell_type": "markdown",
   "id": "638e54c8",
   "metadata": {},
   "source": [
    "Steps:\n",
    "\n",
    "### 1. Setting up taxonkit:\n",
    "1.1 Downloаd taxonkit\n",
    "\n",
    "1.2 Downloading and decompressing taxdump.tar.gz: ftp://ftp.ncbi.nih.gov/pub/taxonomy/taxdump.tar.gz (as recommended https://bioinf.shenwei.me/taxonkit/download/)\n"
   ]
  },
  {
   "cell_type": "code",
   "execution_count": null,
   "id": "e56a8ca0",
   "metadata": {},
   "outputs": [],
   "source": [
    "%%bash\n",
    "curl 'ftp://ftp.ncbi.nih.gov/pub/taxonomy/taxdump.tar.gz' --output ./taxdump.tar.gz"
   ]
  },
  {
   "cell_type": "code",
   "execution_count": null,
   "id": "545fbbf9",
   "metadata": {},
   "outputs": [],
   "source": [
    "%%bash\n",
    "tar -zxvf taxdump.tar.gz"
   ]
  },
  {
   "cell_type": "markdown",
   "id": "f1759242",
   "metadata": {},
   "source": [
    "1.3 Copying some of the taxdump files to $HOME/.taxonkit directory"
   ]
  },
  {
   "cell_type": "code",
   "execution_count": null,
   "id": "1c686052",
   "metadata": {},
   "outputs": [],
   "source": [
    "%%bash\n",
    "cp names.dmp nodes.dmp delnodes.dmp merged.dmp $HOME/.taxonkit"
   ]
  },
  {
   "cell_type": "markdown",
   "id": "c2a34a83",
   "metadata": {},
   "source": [
    "### 2. Writing Arthropoda IDs to text file."
   ]
  },
  {
   "cell_type": "code",
   "execution_count": 11,
   "id": "c8476c06",
   "metadata": {},
   "outputs": [
    {
     "name": "stdout",
     "output_type": "stream",
     "text": [
      "  925155 6656.taxid.txt\n"
     ]
    }
   ],
   "source": [
    "%%bash\n",
    "id=6656\n",
    "taxonkit list --ids $id --indent \"\" > $id.taxid.txt\n",
    "wc -l $id.taxid.txt"
   ]
  },
  {
   "cell_type": "markdown",
   "id": "78902e38",
   "metadata": {},
   "source": [
    "### 3. Retrieving target accessions:\n",
    "\n",
    "3.1 Downloading prot.accession2taxid.gz file from NCBI server: /ftp.ncbi.nlm.nih.gov/pub/taxonomy/accession2taxid/prot.accession2taxid.gz.\n",
    "\n",
    "Note: specify the name of the output file in curl command (the name of directory isn't enough)."
   ]
  },
  {
   "cell_type": "code",
   "execution_count": null,
   "id": "6fe8b6c2",
   "metadata": {},
   "outputs": [],
   "source": [
    "%%bash\n",
    "curl 'ftp://ftp.ncbi.nih.gov/pub/taxonomy/accession2taxid/prot.accession2taxid.gz' --output /Volumes/EXTERNAL/Orthomyxoviridae/prot.accession2taxid.gz"
   ]
  },
  {
   "cell_type": "code",
   "execution_count": 15,
   "id": "7f78bcd8",
   "metadata": {},
   "outputs": [],
   "source": [
    "%%bash\n",
    "cd /Volumes/EXTERNAL/Orthomyxoviridae"
   ]
  },
  {
   "cell_type": "markdown",
   "id": "2f1d9e62",
   "metadata": {},
   "source": [
    "3.2 Retrieving target accessions (taxid -> accession numbers)."
   ]
  },
  {
   "cell_type": "code",
   "execution_count": 22,
   "id": "00cefb11",
   "metadata": {},
   "outputs": [
    {
     "name": "stdout",
     "output_type": "stream",
     "text": [
      " 19035895 /Users/brigitaserebriakova/Desktop/Systems-Biology/MAGISTRINIS/6656.acc.txt\n"
     ]
    }
   ],
   "source": [
    "%%bash\n",
    "pigz -dc /Volumes/EXTERNAL/Orthomyxoviridae/prot.accession2taxid.gz \\\n",
    "    | csvtk grep -t -f taxid -P /Users/brigitaserebriakova/Desktop/Systems-Biology/MAGISTRINIS/6656.taxid.txt \\\n",
    "    | csvtk cut -t -f accession.version,taxid \\\n",
    "    | sed 1d \\\n",
    "    > /Users/brigitaserebriakova/Desktop/Systems-Biology/MAGISTRINIS/6656.acc2taxid.txt\n",
    "\n",
    "cut -f 1 /Users/brigitaserebriakova/Desktop/Systems-Biology/MAGISTRINIS/6656.acc2taxid.txt > /Users/brigitaserebriakova/Desktop/Systems-Biology/MAGISTRINIS/6656.acc.txt\n",
    "\n",
    "wc -l /Users/brigitaserebriakova/Desktop/Systems-Biology/MAGISTRINIS/6656.acc.txt"
   ]
  },
  {
   "cell_type": "markdown",
   "id": "3a4f2cd7",
   "metadata": {},
   "source": [
    "### 4. Retrieving FASTA sequences from pre-formated blastdb."
   ]
  },
  {
   "cell_type": "markdown",
   "id": "8d9bb914",
   "metadata": {},
   "source": [
    "4.1 Downloading nr database:"
   ]
  },
  {
   "cell_type": "code",
   "execution_count": null,
   "id": "1209b1ee",
   "metadata": {},
   "outputs": [],
   "source": [
    "%%bash\n",
    "curl -O \"ftp://ftp.ncbi.nih.gov/blast/db/nr.[00-100].tar.gz\" --output-dir /Volumes/EXTERNAL/Orthomyxoviridae/blast"
   ]
  },
  {
   "cell_type": "code",
   "execution_count": null,
   "id": "c94956c1",
   "metadata": {},
   "outputs": [],
   "source": [
    "%%bash\n",
    "ls nr.*.tar.gz | xargs -I % tar -zxv -f % -C /Volumes/EXTERNAL/Orthomyxoviridae/blast/extracted/"
   ]
  },
  {
   "cell_type": "markdown",
   "id": "0af1a565",
   "metadata": {},
   "source": [
    "Exporting nr.fa from pre-formated blastdb. Code was run in command line (couldn't activate different environment in jupyter notebook)."
   ]
  },
  {
   "cell_type": "code",
   "execution_count": 1,
   "id": "7464ac54",
   "metadata": {
    "scrolled": true
   },
   "outputs": [
    {
     "name": "stderr",
     "output_type": "stream",
     "text": [
      "\n",
      "CommandNotFoundError: Your shell has not been properly configured to use 'conda activate'.\n",
      "To initialize your shell, run\n",
      "\n",
      "    $ conda init <SHELL_NAME>\n",
      "\n",
      "Currently supported shells are:\n",
      "  - bash\n",
      "  - fish\n",
      "  - tcsh\n",
      "  - xonsh\n",
      "  - zsh\n",
      "  - powershell\n",
      "\n",
      "See 'conda init --help' for more information and options.\n",
      "\n",
      "IMPORTANT: You may need to close and restart your shell after running 'conda init'.\n",
      "\n",
      "\n",
      "bash: line 3: blastdbcmd: command not found\n"
     ]
    }
   ],
   "source": [
    "%%bash\n",
    "conda activate blast\n",
    "cd /Volumes/EXTERNAL/Orthomyxoviridae/blast/nr\n",
    "blastdbcmd -db nr -dbtype prot -entry all -outfmt \"%f\" -out - | pigz -c > /Volumes/EXTERNAL/Orthomyxoviridae/nr.fa.gz"
   ]
  },
  {
   "cell_type": "markdown",
   "id": "a32c05d5",
   "metadata": {},
   "source": [
    "Moved database to another portable drive. From now on, another database directory will be used.\n",
    "\n",
    "Installing seqkit (conda install -c bioconda seqkit)."
   ]
  },
  {
   "cell_type": "code",
   "execution_count": 1,
   "id": "f36fa05a",
   "metadata": {},
   "outputs": [
    {
     "name": "stderr",
     "output_type": "stream",
     "text": [
      "bash: line 4: seqkit: command not found\n",
      "\n",
      "real\t0m0.107s\n",
      "user\t0m0.008s\n",
      "sys\t0m0.066s\n"
     ]
    },
    {
     "ename": "CalledProcessError",
     "evalue": "Command 'b'\\ntime cat <(echo) <(pigz -dc /Volumes/WD_BLACK/Brigita/Orthomyxoviridae/nr.fa.gz) \\\\\\n    | perl -e \\'BEGIN{ $/ = \"\\\\n>\"; <>; } while(<>){s/>$//;  $i = index $_, \"\\\\n\"; $h = substr $_, 0, $i; $s = substr $_, $i+1; if ($h !~ />/) { print \">$_\"; next; }; $h = \">$h\"; while($h =~ />([^ ]+ .+?) ?(?=>|$)/g){ $h1 = $1; $h1 =~ s/^\\\\W+//; print \">$h1\\\\n$s\";} } \\' \\\\\\n    | seqkit grep -f /Volumes/WD_BLACK/Brigita/Orthomyxoviridae/6656.acc.txt -o /Volumes/WD_BLACK/Brigita/Orthomyxoviridae/nr.6656.fa.gz\\n'' returned non-zero exit status 127.",
     "output_type": "error",
     "traceback": [
      "\u001b[0;31m---------------------------------------------------------------------------\u001b[0m",
      "\u001b[0;31mCalledProcessError\u001b[0m                        Traceback (most recent call last)",
      "Cell \u001b[0;32mIn[1], line 1\u001b[0m\n\u001b[0;32m----> 1\u001b[0m get_ipython()\u001b[38;5;241m.\u001b[39mrun_cell_magic(\u001b[38;5;124m'\u001b[39m\u001b[38;5;124mbash\u001b[39m\u001b[38;5;124m'\u001b[39m, \u001b[38;5;124m'\u001b[39m\u001b[38;5;124m'\u001b[39m, \u001b[38;5;124m'\u001b[39m\u001b[38;5;130;01m\\n\u001b[39;00m\u001b[38;5;124mtime cat <(echo) <(pigz -dc /Volumes/WD_BLACK/Brigita/Orthomyxoviridae/nr.fa.gz) \u001b[39m\u001b[38;5;130;01m\\\\\u001b[39;00m\u001b[38;5;130;01m\\n\u001b[39;00m\u001b[38;5;124m    | perl -e \u001b[39m\u001b[38;5;130;01m\\'\u001b[39;00m\u001b[38;5;124mBEGIN\u001b[39m\u001b[38;5;124m{\u001b[39m\u001b[38;5;124m $/ = \u001b[39m\u001b[38;5;124m\"\u001b[39m\u001b[38;5;130;01m\\\\\u001b[39;00m\u001b[38;5;124mn>\u001b[39m\u001b[38;5;124m\"\u001b[39m\u001b[38;5;124m; <>; } while(<>)\u001b[39m\u001b[38;5;124m{\u001b[39m\u001b[38;5;124ms/>$//;  $i = index $_, \u001b[39m\u001b[38;5;124m\"\u001b[39m\u001b[38;5;130;01m\\\\\u001b[39;00m\u001b[38;5;124mn\u001b[39m\u001b[38;5;124m\"\u001b[39m\u001b[38;5;124m; $h = substr $_, 0, $i; $s = substr $_, $i+1; if ($h !~ />/) \u001b[39m\u001b[38;5;124m{\u001b[39m\u001b[38;5;124m print \u001b[39m\u001b[38;5;124m\"\u001b[39m\u001b[38;5;124m>$_\u001b[39m\u001b[38;5;124m\"\u001b[39m\u001b[38;5;124m; next; }; $h = \u001b[39m\u001b[38;5;124m\"\u001b[39m\u001b[38;5;124m>$h\u001b[39m\u001b[38;5;124m\"\u001b[39m\u001b[38;5;124m; while($h =~ />([^ ]+ .+?) ?(?=>|$)/g)\u001b[39m\u001b[38;5;124m{\u001b[39m\u001b[38;5;124m $h1 = $1; $h1 =~ s/^\u001b[39m\u001b[38;5;130;01m\\\\\u001b[39;00m\u001b[38;5;124mW+//; print \u001b[39m\u001b[38;5;124m\"\u001b[39m\u001b[38;5;124m>$h1\u001b[39m\u001b[38;5;130;01m\\\\\u001b[39;00m\u001b[38;5;124mn$s\u001b[39m\u001b[38;5;124m\"\u001b[39m\u001b[38;5;124m;} } \u001b[39m\u001b[38;5;130;01m\\'\u001b[39;00m\u001b[38;5;124m \u001b[39m\u001b[38;5;130;01m\\\\\u001b[39;00m\u001b[38;5;130;01m\\n\u001b[39;00m\u001b[38;5;124m    | seqkit grep -f /Volumes/WD_BLACK/Brigita/Orthomyxoviridae/6656.acc.txt -o /Volumes/WD_BLACK/Brigita/Orthomyxoviridae/nr.6656.fa.gz\u001b[39m\u001b[38;5;130;01m\\n\u001b[39;00m\u001b[38;5;124m'\u001b[39m)\n",
      "File \u001b[0;32m~/miniconda3/envs/orthomyxo/lib/python3.11/site-packages/IPython/core/interactiveshell.py:2475\u001b[0m, in \u001b[0;36mInteractiveShell.run_cell_magic\u001b[0;34m(self, magic_name, line, cell)\u001b[0m\n\u001b[1;32m   2473\u001b[0m \u001b[38;5;28;01mwith\u001b[39;00m \u001b[38;5;28mself\u001b[39m\u001b[38;5;241m.\u001b[39mbuiltin_trap:\n\u001b[1;32m   2474\u001b[0m     args \u001b[38;5;241m=\u001b[39m (magic_arg_s, cell)\n\u001b[0;32m-> 2475\u001b[0m     result \u001b[38;5;241m=\u001b[39m fn(\u001b[38;5;241m*\u001b[39margs, \u001b[38;5;241m*\u001b[39m\u001b[38;5;241m*\u001b[39mkwargs)\n\u001b[1;32m   2477\u001b[0m \u001b[38;5;66;03m# The code below prevents the output from being displayed\u001b[39;00m\n\u001b[1;32m   2478\u001b[0m \u001b[38;5;66;03m# when using magics with decodator @output_can_be_silenced\u001b[39;00m\n\u001b[1;32m   2479\u001b[0m \u001b[38;5;66;03m# when the last Python token in the expression is a ';'.\u001b[39;00m\n\u001b[1;32m   2480\u001b[0m \u001b[38;5;28;01mif\u001b[39;00m \u001b[38;5;28mgetattr\u001b[39m(fn, magic\u001b[38;5;241m.\u001b[39mMAGIC_OUTPUT_CAN_BE_SILENCED, \u001b[38;5;28;01mFalse\u001b[39;00m):\n",
      "File \u001b[0;32m~/miniconda3/envs/orthomyxo/lib/python3.11/site-packages/IPython/core/magics/script.py:153\u001b[0m, in \u001b[0;36mScriptMagics._make_script_magic.<locals>.named_script_magic\u001b[0;34m(line, cell)\u001b[0m\n\u001b[1;32m    151\u001b[0m \u001b[38;5;28;01melse\u001b[39;00m:\n\u001b[1;32m    152\u001b[0m     line \u001b[38;5;241m=\u001b[39m script\n\u001b[0;32m--> 153\u001b[0m \u001b[38;5;28;01mreturn\u001b[39;00m \u001b[38;5;28mself\u001b[39m\u001b[38;5;241m.\u001b[39mshebang(line, cell)\n",
      "File \u001b[0;32m~/miniconda3/envs/orthomyxo/lib/python3.11/site-packages/IPython/core/magics/script.py:305\u001b[0m, in \u001b[0;36mScriptMagics.shebang\u001b[0;34m(self, line, cell)\u001b[0m\n\u001b[1;32m    300\u001b[0m \u001b[38;5;28;01mif\u001b[39;00m args\u001b[38;5;241m.\u001b[39mraise_error \u001b[38;5;129;01mand\u001b[39;00m p\u001b[38;5;241m.\u001b[39mreturncode \u001b[38;5;241m!=\u001b[39m \u001b[38;5;241m0\u001b[39m:\n\u001b[1;32m    301\u001b[0m     \u001b[38;5;66;03m# If we get here and p.returncode is still None, we must have\u001b[39;00m\n\u001b[1;32m    302\u001b[0m     \u001b[38;5;66;03m# killed it but not yet seen its return code. We don't wait for it,\u001b[39;00m\n\u001b[1;32m    303\u001b[0m     \u001b[38;5;66;03m# in case it's stuck in uninterruptible sleep. -9 = SIGKILL\u001b[39;00m\n\u001b[1;32m    304\u001b[0m     rc \u001b[38;5;241m=\u001b[39m p\u001b[38;5;241m.\u001b[39mreturncode \u001b[38;5;129;01mor\u001b[39;00m \u001b[38;5;241m-\u001b[39m\u001b[38;5;241m9\u001b[39m\n\u001b[0;32m--> 305\u001b[0m     \u001b[38;5;28;01mraise\u001b[39;00m CalledProcessError(rc, cell)\n",
      "\u001b[0;31mCalledProcessError\u001b[0m: Command 'b'\\ntime cat <(echo) <(pigz -dc /Volumes/WD_BLACK/Brigita/Orthomyxoviridae/nr.fa.gz) \\\\\\n    | perl -e \\'BEGIN{ $/ = \"\\\\n>\"; <>; } while(<>){s/>$//;  $i = index $_, \"\\\\n\"; $h = substr $_, 0, $i; $s = substr $_, $i+1; if ($h !~ />/) { print \">$_\"; next; }; $h = \">$h\"; while($h =~ />([^ ]+ .+?) ?(?=>|$)/g){ $h1 = $1; $h1 =~ s/^\\\\W+//; print \">$h1\\\\n$s\";} } \\' \\\\\\n    | seqkit grep -f /Volumes/WD_BLACK/Brigita/Orthomyxoviridae/6656.acc.txt -o /Volumes/WD_BLACK/Brigita/Orthomyxoviridae/nr.6656.fa.gz\\n'' returned non-zero exit status 127."
     ]
    }
   ],
   "source": [
    "%%bash\n",
    "\n",
    "time cat <(echo) <(pigz -dc /Volumes/WD_BLACK/Brigita/Orthomyxoviridae/nr.fa.gz) \\\n",
    "    | perl -e 'BEGIN{ $/ = \"\\n>\"; <>; } while(<>){s/>$//;  $i = index $_, \"\\n\"; $h = substr $_, 0, $i; $s = substr $_, $i+1; if ($h !~ />/) { print \">$_\"; next; }; $h = \">$h\"; while($h =~ />([^ ]+ .+?) ?(?=>|$)/g){ $h1 = $1; $h1 =~ s/^\\W+//; print \">$h1\\n$s\";} } ' \\\n",
    "    | seqkit grep -f /Volumes/WD_BLACK/Brigita/Orthomyxoviridae/6656.acc.txt -o /Volumes/WD_BLACK/Brigita/Orthomyxoviridae/nr.6656.fa.gz"
   ]
  },
  {
   "cell_type": "code",
   "execution_count": null,
   "id": "fd63aa87",
   "metadata": {},
   "outputs": [],
   "source": [
    "ftp://ftp.ncbi.nlm.nih.gov/blast/db"
   ]
  }
 ],
 "metadata": {
  "kernelspec": {
   "display_name": "Python 3 (ipykernel)",
   "language": "python",
   "name": "python3"
  },
  "language_info": {
   "codemirror_mode": {
    "name": "ipython",
    "version": 3
   },
   "file_extension": ".py",
   "mimetype": "text/x-python",
   "name": "python",
   "nbconvert_exporter": "python",
   "pygments_lexer": "ipython3",
   "version": "3.11.4"
  }
 },
 "nbformat": 4,
 "nbformat_minor": 5
}
